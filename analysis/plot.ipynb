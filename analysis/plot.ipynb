{
 "cells": [
  {
   "cell_type": "code",
   "execution_count": 32,
   "metadata": {},
   "outputs": [],
   "source": [
    "import numpy as np\n",
    "import matplotlib\n",
    "import matplotlib.pyplot as plt\n",
    "import matplotlib.gridspec as gridspec\n",
    "import seaborn as sns\n",
    "import pandas as pd \n",
    "import ipywidgets as widgets\n",
    "from IPython.display import display\n",
    "from ipywidgets import interact, interactive, interact_manual\n",
    "import os\n",
    "plt.rcParams.update({\n",
    "    \"text.usetex\": True,\n",
    "    \"font.family\": \"sans-serif\",\n",
    "    \"font.sans-serif\": [\"Helvetica\"]})\n",
    "sns.set_context(\"paper\")\n",
    "sns.set(font_scale = 1.4)\n",
    "sns.set_style(\"ticks\")\n",
    "# sns.set_palette(\"deep\")\n",
    "sns.set_palette(\"twilight_shifted_r\")"
   ]
  },
  {
   "cell_type": "code",
   "execution_count": 33,
   "metadata": {},
   "outputs": [
    {
     "data": {
      "text/html": [
       "<div>\n",
       "<style scoped>\n",
       "    .dataframe tbody tr th:only-of-type {\n",
       "        vertical-align: middle;\n",
       "    }\n",
       "\n",
       "    .dataframe tbody tr th {\n",
       "        vertical-align: top;\n",
       "    }\n",
       "\n",
       "    .dataframe thead th {\n",
       "        text-align: right;\n",
       "    }\n",
       "</style>\n",
       "<table border=\"1\" class=\"dataframe\">\n",
       "  <thead>\n",
       "    <tr style=\"text-align: right;\">\n",
       "      <th></th>\n",
       "      <th>Scenario</th>\n",
       "      <th>Data size (GB)</th>\n",
       "      <th>Type</th>\n",
       "      <th>Makespan</th>\n",
       "    </tr>\n",
       "  </thead>\n",
       "  <tbody>\n",
       "    <tr>\n",
       "      <th>0</th>\n",
       "      <td>Pegasus + Decaf</td>\n",
       "      <td>16</td>\n",
       "      <td>nosleep</td>\n",
       "      <td>104.140000</td>\n",
       "    </tr>\n",
       "    <tr>\n",
       "      <th>1</th>\n",
       "      <td>Pegasus + Decaf</td>\n",
       "      <td>16</td>\n",
       "      <td>nosleep</td>\n",
       "      <td>106.450000</td>\n",
       "    </tr>\n",
       "    <tr>\n",
       "      <th>2</th>\n",
       "      <td>Pegasus + Decaf</td>\n",
       "      <td>16</td>\n",
       "      <td>nosleep</td>\n",
       "      <td>118.090000</td>\n",
       "    </tr>\n",
       "    <tr>\n",
       "      <th>3</th>\n",
       "      <td>Pegasus + Decaf</td>\n",
       "      <td>16</td>\n",
       "      <td>nosleep</td>\n",
       "      <td>103.200000</td>\n",
       "    </tr>\n",
       "    <tr>\n",
       "      <th>4</th>\n",
       "      <td>Pegasus + Decaf</td>\n",
       "      <td>16</td>\n",
       "      <td>nosleep</td>\n",
       "      <td>103.010000</td>\n",
       "    </tr>\n",
       "    <tr>\n",
       "      <th>...</th>\n",
       "      <td>...</td>\n",
       "      <td>...</td>\n",
       "      <td>...</td>\n",
       "      <td>...</td>\n",
       "    </tr>\n",
       "    <tr>\n",
       "      <th>320</th>\n",
       "      <td>PMC</td>\n",
       "      <td>8</td>\n",
       "      <td>sleep</td>\n",
       "      <td>187.506007</td>\n",
       "    </tr>\n",
       "    <tr>\n",
       "      <th>321</th>\n",
       "      <td>PMC</td>\n",
       "      <td>8</td>\n",
       "      <td>sleep</td>\n",
       "      <td>189.464093</td>\n",
       "    </tr>\n",
       "    <tr>\n",
       "      <th>322</th>\n",
       "      <td>PMC</td>\n",
       "      <td>8</td>\n",
       "      <td>sleep</td>\n",
       "      <td>188.485512</td>\n",
       "    </tr>\n",
       "    <tr>\n",
       "      <th>323</th>\n",
       "      <td>PMC</td>\n",
       "      <td>8</td>\n",
       "      <td>sleep</td>\n",
       "      <td>185.876696</td>\n",
       "    </tr>\n",
       "    <tr>\n",
       "      <th>324</th>\n",
       "      <td>PMC</td>\n",
       "      <td>8</td>\n",
       "      <td>sleep</td>\n",
       "      <td>167.899642</td>\n",
       "    </tr>\n",
       "  </tbody>\n",
       "</table>\n",
       "<p>325 rows × 4 columns</p>\n",
       "</div>"
      ],
      "text/plain": [
       "            Scenario  Data size (GB)     Type    Makespan\n",
       "0    Pegasus + Decaf              16  nosleep  104.140000\n",
       "1    Pegasus + Decaf              16  nosleep  106.450000\n",
       "2    Pegasus + Decaf              16  nosleep  118.090000\n",
       "3    Pegasus + Decaf              16  nosleep  103.200000\n",
       "4    Pegasus + Decaf              16  nosleep  103.010000\n",
       "..               ...             ...      ...         ...\n",
       "320              PMC               8    sleep  187.506007\n",
       "321              PMC               8    sleep  189.464093\n",
       "322              PMC               8    sleep  188.485512\n",
       "323              PMC               8    sleep  185.876696\n",
       "324              PMC               8    sleep  167.899642\n",
       "\n",
       "[325 rows x 4 columns]"
      ]
     },
     "execution_count": 33,
     "metadata": {},
     "output_type": "execute_result"
    }
   ],
   "source": [
    "data_csv = \"./summary.csv\"\n",
    "data_df = pd.read_csv(data_csv, comment='#')\n",
    "data_df"
   ]
  },
  {
   "cell_type": "code",
   "execution_count": 34,
   "metadata": {},
   "outputs": [
    {
     "data": {
      "application/vnd.jupyter.widget-view+json": {
       "model_id": "a5ec9c1b378d4c40856b2eed49462d26",
       "version_major": 2,
       "version_minor": 0
      },
      "text/plain": [
       "interactive(children=(Dropdown(description='run_type', options=('nosleep', 'sleep'), value='nosleep'), Output(…"
      ]
     },
     "metadata": {},
     "output_type": "display_data"
    }
   ],
   "source": [
    "hue_order = ['Pegasus only', 'PMC', 'Pegasus + Decaf']\n",
    "@interact(run_type=data_df['Type'].unique())\n",
    "def plot_summary(run_type):\n",
    "    sub_df = data_df[data_df['Type'] == run_type]\n",
    "    ax = sns.barplot(x='Data size (GB)', y='Makespan', hue='Scenario', data=sub_df, hue_order=hue_order)\n",
    "    ax.legend_.set_title(\"\")\n",
    "    # plt.savefig('iosynthetic_'+run_type+'.pdf', bbox_inches='tight', dpi=12000)\n",
    "    # plt.savefig('iosynthetic_'+run_type+'.png', bbox_inches='tight')"
   ]
  },
  {
   "cell_type": "code",
   "execution_count": 35,
   "metadata": {},
   "outputs": [
    {
     "data": {
      "application/vnd.jupyter.widget-view+json": {
       "model_id": "8359575419604c2bb66d23306cfc48a2",
       "version_major": 2,
       "version_minor": 0
      },
      "text/plain": [
       "interactive(children=(Dropdown(description='run_type', options=('nosleep', 'sleep'), value='nosleep'), Output(…"
      ]
     },
     "metadata": {},
     "output_type": "display_data"
    }
   ],
   "source": [
    "@interact(run_type=data_df['Type'].unique())\n",
    "def plot_summary(run_type):\n",
    "    sub_df = data_df[data_df['Type'] == run_type]\n",
    "    sub_df['Average'] = sub_df.groupby(['Scenario','Data size (GB)'])['Makespan'].transform('mean')\n",
    "    temp_df = sub_df[['Scenario','Data size (GB)','Average']].drop_duplicates() \n",
    "    t_df = temp_df.loc[temp_df['Scenario'] == 'Pegasus only']\n",
    "    s = t_df.set_index('Data size (GB)')['Average']\n",
    "    temp_df['Percentage of Pegasus only (\\%)'] = temp_df['Average']*100 / temp_df['Data size (GB)'].map(s)\n",
    "    ax = sns.barplot(x='Data size (GB)', y='Percentage of Pegasus only (\\%)', hue='Scenario', data=temp_df, hue_order=hue_order)\n",
    "    ax.legend_.set_title(\"\")"
   ]
  },
  {
   "cell_type": "code",
   "execution_count": 37,
   "metadata": {},
   "outputs": [
    {
     "data": {
      "application/vnd.jupyter.widget-view+json": {
       "model_id": "3191272f09594f67a1592f772d2bac41",
       "version_major": 2,
       "version_minor": 0
      },
      "text/plain": [
       "interactive(children=(Dropdown(description='run_type', options=('nosleep', 'sleep'), value='nosleep'), Output(…"
      ]
     },
     "metadata": {},
     "output_type": "display_data"
    }
   ],
   "source": [
    "@interact(run_type=data_df['Type'].unique())\n",
    "def plot_summary(run_type):\n",
    "    sub_df = data_df[data_df['Type'] == run_type]\n",
    "    fig, axes = plt.subplots(nrows=1, ncols=2, figsize=(10,3.5), constrained_layout=True)\n",
    "    sub_df['Average'] = sub_df.groupby(['Scenario','Data size (GB)'])['Makespan'].transform('mean')\n",
    "    temp_df = sub_df[['Scenario','Data size (GB)','Average']].drop_duplicates() \n",
    "    t_df = temp_df.loc[temp_df['Scenario'] == 'Pegasus only']\n",
    "    s = t_df.set_index('Data size (GB)')['Average']\n",
    "    temp_df['Percentage of Pegasus only (\\%)'] = temp_df['Average']*100 / temp_df['Data size (GB)'].map(s)\n",
    "    ax0 = sns.barplot(x='Data size (GB)', y='Makespan', hue='Scenario', data=sub_df, hue_order=hue_order, ax=axes[0])\n",
    "    # ax0.legend_.set_title(\"\")\n",
    "    ax0.legend().set_visible(False)\n",
    "    ax0.set_xlabel('File size (GB)')\n",
    "    ax0.set_ylabel('Makespan (s)')\n",
    "    ax1 = sns.barplot(x='Data size (GB)', y='Percentage of Pegasus only (\\%)', hue='Scenario', data=temp_df, hue_order=hue_order, ax=axes[1])\n",
    "    ax1.axhline(100, linestyle='--', linewidth=1.5)\n",
    "    # ax1.legend_.set_title(\"\")\n",
    "    ax1.legend().set_visible(False)\n",
    "    ax1.set_xlabel('File size (GB)')\n",
    "    ax1.set_ylabel('Normalization to Pegasus only (\\%)')\n",
    "    handles, labels = axes[1].get_legend_handles_labels()\n",
    "    fig.legend(handles, labels, bbox_to_anchor=(0.8, 1.2), borderaxespad=0, ncol=3)\n",
    "    plt.savefig('iosynthetic_'+run_type+'.pdf', bbox_inches='tight', dpi=12000)"
   ]
  }
 ],
 "metadata": {
  "interpreter": {
   "hash": "aee8b7b246df8f9039afb4144a1f6fd8d2ca17a180786b69acc140d282b71a49"
  },
  "kernelspec": {
   "display_name": "Python 3.9.7 64-bit",
   "name": "python3"
  },
  "language_info": {
   "codemirror_mode": {
    "name": "ipython",
    "version": 3
   },
   "file_extension": ".py",
   "mimetype": "text/x-python",
   "name": "python",
   "nbconvert_exporter": "python",
   "pygments_lexer": "ipython3",
   "version": "3.9.7"
  },
  "orig_nbformat": 4
 },
 "nbformat": 4,
 "nbformat_minor": 2
}
