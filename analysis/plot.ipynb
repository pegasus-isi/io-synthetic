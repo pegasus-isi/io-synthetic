{
 "cells": [
  {
   "cell_type": "code",
   "execution_count": 1,
   "metadata": {},
   "outputs": [],
   "source": [
    "import numpy as np\n",
    "import matplotlib\n",
    "import matplotlib.pyplot as plt\n",
    "import matplotlib.gridspec as gridspec\n",
    "import seaborn as sns\n",
    "import pandas as pd \n",
    "import ipywidgets as widgets\n",
    "from IPython.display import display\n",
    "from ipywidgets import interact, interactive, interact_manual\n",
    "import os\n",
    "sns.set_context(\"paper\")\n",
    "sns.set(font_scale = 1.4)\n",
    "sns.set_style(\"ticks\")\n",
    "# sns.set_palette(\"deep\")\n",
    "sns.set_palette(\"twilight_shifted_r\")\n",
    "plt.rcParams.update({\n",
    "    \"text.usetex\": True,\n",
    "    \"font.family\": \"Computer Modern Typewriter\"\n",
    "})"
   ]
  },
  {
   "cell_type": "code",
   "execution_count": 2,
   "metadata": {},
   "outputs": [
    {
     "data": {
      "text/html": [
       "<div>\n",
       "<style scoped>\n",
       "    .dataframe tbody tr th:only-of-type {\n",
       "        vertical-align: middle;\n",
       "    }\n",
       "\n",
       "    .dataframe tbody tr th {\n",
       "        vertical-align: top;\n",
       "    }\n",
       "\n",
       "    .dataframe thead th {\n",
       "        text-align: right;\n",
       "    }\n",
       "</style>\n",
       "<table border=\"1\" class=\"dataframe\">\n",
       "  <thead>\n",
       "    <tr style=\"text-align: right;\">\n",
       "      <th></th>\n",
       "      <th>Scenario</th>\n",
       "      <th>File size (GB)</th>\n",
       "      <th>Type</th>\n",
       "      <th>Makespan</th>\n",
       "    </tr>\n",
       "  </thead>\n",
       "  <tbody>\n",
       "    <tr>\n",
       "      <th>0</th>\n",
       "      <td>\\textsc{PegDecaf}</td>\n",
       "      <td>16</td>\n",
       "      <td>nosleep</td>\n",
       "      <td>104.140000</td>\n",
       "    </tr>\n",
       "    <tr>\n",
       "      <th>1</th>\n",
       "      <td>\\textsc{PegDecaf}</td>\n",
       "      <td>16</td>\n",
       "      <td>nosleep</td>\n",
       "      <td>106.450000</td>\n",
       "    </tr>\n",
       "    <tr>\n",
       "      <th>2</th>\n",
       "      <td>\\textsc{PegDecaf}</td>\n",
       "      <td>16</td>\n",
       "      <td>nosleep</td>\n",
       "      <td>118.090000</td>\n",
       "    </tr>\n",
       "    <tr>\n",
       "      <th>3</th>\n",
       "      <td>\\textsc{PegDecaf}</td>\n",
       "      <td>16</td>\n",
       "      <td>nosleep</td>\n",
       "      <td>103.200000</td>\n",
       "    </tr>\n",
       "    <tr>\n",
       "      <th>4</th>\n",
       "      <td>\\textsc{PegDecaf}</td>\n",
       "      <td>16</td>\n",
       "      <td>nosleep</td>\n",
       "      <td>103.010000</td>\n",
       "    </tr>\n",
       "    <tr>\n",
       "      <th>...</th>\n",
       "      <td>...</td>\n",
       "      <td>...</td>\n",
       "      <td>...</td>\n",
       "      <td>...</td>\n",
       "    </tr>\n",
       "    <tr>\n",
       "      <th>314</th>\n",
       "      <td>\\textsc{PMC}</td>\n",
       "      <td>8</td>\n",
       "      <td>sleep</td>\n",
       "      <td>187.506007</td>\n",
       "    </tr>\n",
       "    <tr>\n",
       "      <th>315</th>\n",
       "      <td>\\textsc{PMC}</td>\n",
       "      <td>8</td>\n",
       "      <td>sleep</td>\n",
       "      <td>189.464093</td>\n",
       "    </tr>\n",
       "    <tr>\n",
       "      <th>316</th>\n",
       "      <td>\\textsc{PMC}</td>\n",
       "      <td>8</td>\n",
       "      <td>sleep</td>\n",
       "      <td>188.485512</td>\n",
       "    </tr>\n",
       "    <tr>\n",
       "      <th>317</th>\n",
       "      <td>\\textsc{PMC}</td>\n",
       "      <td>8</td>\n",
       "      <td>sleep</td>\n",
       "      <td>185.876696</td>\n",
       "    </tr>\n",
       "    <tr>\n",
       "      <th>318</th>\n",
       "      <td>\\textsc{PMC}</td>\n",
       "      <td>8</td>\n",
       "      <td>sleep</td>\n",
       "      <td>167.899642</td>\n",
       "    </tr>\n",
       "  </tbody>\n",
       "</table>\n",
       "<p>319 rows × 4 columns</p>\n",
       "</div>"
      ],
      "text/plain": [
       "              Scenario  File size (GB)     Type    Makespan\n",
       "0    \\textsc{PegDecaf}              16  nosleep  104.140000\n",
       "1    \\textsc{PegDecaf}              16  nosleep  106.450000\n",
       "2    \\textsc{PegDecaf}              16  nosleep  118.090000\n",
       "3    \\textsc{PegDecaf}              16  nosleep  103.200000\n",
       "4    \\textsc{PegDecaf}              16  nosleep  103.010000\n",
       "..                 ...             ...      ...         ...\n",
       "314       \\textsc{PMC}               8    sleep  187.506007\n",
       "315       \\textsc{PMC}               8    sleep  189.464093\n",
       "316       \\textsc{PMC}               8    sleep  188.485512\n",
       "317       \\textsc{PMC}               8    sleep  185.876696\n",
       "318       \\textsc{PMC}               8    sleep  167.899642\n",
       "\n",
       "[319 rows x 4 columns]"
      ]
     },
     "execution_count": 2,
     "metadata": {},
     "output_type": "execute_result"
    }
   ],
   "source": [
    "data_csv = \"./summary.csv\"\n",
    "data_df = pd.read_csv(data_csv, comment='#')\n",
    "data_df"
   ]
  },
  {
   "cell_type": "code",
   "execution_count": 17,
   "metadata": {},
   "outputs": [
    {
     "data": {
      "application/vnd.jupyter.widget-view+json": {
       "model_id": "5529044778a8451aa248478cac9ca539",
       "version_major": 2,
       "version_minor": 0
      },
      "text/plain": [
       "interactive(children=(Dropdown(description='run_type', options=('nosleep', 'sleep'), value='nosleep'), Output(…"
      ]
     },
     "metadata": {},
     "output_type": "display_data"
    }
   ],
   "source": [
    "hue_order = ['\\\\textsc{Vanilla}', '\\\\textsc{PMC}', '\\\\textsc{PegDecaf}']\n",
    "@interact(run_type=data_df['Type'].unique())\n",
    "def plot_summary(run_type):\n",
    "    sub_df = data_df[data_df['Type'] == run_type]\n",
    "    ax = sns.barplot(x='File size (GB)', y='Makespan', hue='Scenario', data=sub_df, hue_order=hue_order)\n",
    "    ax.legend_.set_title(\"\")\n",
    "    plt.savefig('iosynthetic_'+run_type+'_makespan.pdf', bbox_inches='tight', dpi=12000)\n",
    "    # plt.savefig('iosynthetic_'+run_type+'.png', bbox_inches='tight')"
   ]
  },
  {
   "cell_type": "code",
   "execution_count": 16,
   "metadata": {},
   "outputs": [
    {
     "data": {
      "application/vnd.jupyter.widget-view+json": {
       "model_id": "e1f6bbc98f85465f87b61f84b50b1519",
       "version_major": 2,
       "version_minor": 0
      },
      "text/plain": [
       "interactive(children=(Dropdown(description='run_type', options=('nosleep', 'sleep'), value='nosleep'), Output(…"
      ]
     },
     "metadata": {},
     "output_type": "display_data"
    }
   ],
   "source": [
    "@interact(run_type=data_df['Type'].unique())\n",
    "def plot_summary(run_type):\n",
    "    sub_df = data_df[data_df['Type'] == run_type]\n",
    "    sub_df['Average'] = sub_df.groupby(['Scenario','File size (GB)'])['Makespan'].transform('mean')\n",
    "    temp_df = sub_df[['Scenario','File size (GB)','Average']].drop_duplicates() \n",
    "    t_df = temp_df.loc[temp_df['Scenario'] == '\\\\textsc{Vanilla}']\n",
    "    s = t_df.set_index('File size (GB)')['Average']\n",
    "    temp_df['Percentage of Pegasus only (\\%)'] = temp_df['Average']*100 / temp_df['File size (GB)'].map(s)\n",
    "    # print(temp_df)\n",
    "    ax = sns.barplot(x='File size (GB)', y='Percentage of Pegasus only (\\%)', hue='Scenario', data=temp_df, hue_order=hue_order)\n",
    "    ax.legend_.set_title(\"\")\n",
    "    ax.set_ylabel('Normalization to \\\\textsc{Vanilla} (\\%)')\n",
    "    plt.savefig('iosynthetic_'+run_type+'_normalization.pdf', bbox_inches='tight', dpi=12000)"
   ]
  },
  {
   "cell_type": "code",
   "execution_count": 15,
   "metadata": {},
   "outputs": [
    {
     "data": {
      "application/vnd.jupyter.widget-view+json": {
       "model_id": "fa91d8cd2d5144798a9f149f54b976b3",
       "version_major": 2,
       "version_minor": 0
      },
      "text/plain": [
       "interactive(children=(Dropdown(description='run_type', options=('nosleep', 'sleep'), value='nosleep'), Output(…"
      ]
     },
     "metadata": {},
     "output_type": "display_data"
    }
   ],
   "source": [
    "@interact(run_type=data_df['Type'].unique())\n",
    "def plot_summary(run_type):\n",
    "    sub_df = data_df[data_df['Type'] == run_type]\n",
    "    fig, axes = plt.subplots(nrows=1, ncols=2, figsize=(10,3.5), constrained_layout=True)\n",
    "    sub_df['Average'] = sub_df.groupby(['Scenario','File size (GB)'])['Makespan'].transform('mean')\n",
    "    temp_df = sub_df[['Scenario','File size (GB)','Average']].drop_duplicates() \n",
    "    t_df = temp_df.loc[temp_df['Scenario'] == '\\\\textsc{Vanilla}']\n",
    "    s = t_df.set_index('File size (GB)')['Average']\n",
    "    temp_df['Percentage of Pegasus only (\\%)'] = temp_df['Average']*100 / temp_df['File size (GB)'].map(s)\n",
    "    ax0 = sns.barplot(x='File size (GB)', y='Makespan', hue='Scenario', data=sub_df, hue_order=hue_order, ax=axes[0])\n",
    "    # ax0.legend_.set_title(\"\")\n",
    "    ax0.legend().set_visible(False)\n",
    "    ax0.set_xlabel('File size (GB)')\n",
    "    ax0.set_ylabel('Makespan (s)')\n",
    "    ax1 = sns.barplot(x='File size (GB)', y='Percentage of Pegasus only (\\%)', hue='Scenario', data=temp_df, hue_order=hue_order, ax=axes[1])\n",
    "    ax1.axhline(100, linestyle='--', linewidth=1.5)\n",
    "    # ax1.legend_.set_title(\"\")\n",
    "    ax1.legend().set_visible(False)\n",
    "    ax1.set_xlabel('File size (GB)')\n",
    "    ax1.set_ylabel('Normalization to \\\\textsc{Vanilla} (\\%)')\n",
    "    handles, labels = axes[1].get_legend_handles_labels()\n",
    "    fig.legend(handles, labels, bbox_to_anchor=(0.8, 1.2), borderaxespad=0, ncol=3)\n",
    "    plt.savefig('iosynthetic_'+run_type+'.pdf', bbox_inches='tight', dpi=12000)"
   ]
  }
 ],
 "metadata": {
  "interpreter": {
   "hash": "aee8b7b246df8f9039afb4144a1f6fd8d2ca17a180786b69acc140d282b71a49"
  },
  "kernelspec": {
   "display_name": "Python 3.9.7 64-bit",
   "name": "python3"
  },
  "language_info": {
   "codemirror_mode": {
    "name": "ipython",
    "version": 3
   },
   "file_extension": ".py",
   "mimetype": "text/x-python",
   "name": "python",
   "nbconvert_exporter": "python",
   "pygments_lexer": "ipython3",
   "version": "3.9.7"
  },
  "orig_nbformat": 4
 },
 "nbformat": 4,
 "nbformat_minor": 2
}
